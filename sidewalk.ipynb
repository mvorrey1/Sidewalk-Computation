{
 "cells": [
  {
   "cell_type": "code",
   "execution_count": 8,
   "metadata": {},
   "outputs": [],
   "source": [
    "import pandas as pd\n",
    "import geopandas as gpd"
   ]
  },
  {
   "cell_type": "code",
   "execution_count": null,
   "metadata": {},
   "outputs": [],
   "source": []
  },
  {
   "cell_type": "code",
   "execution_count": 9,
   "metadata": {},
   "outputs": [],
   "source": [
    "lidarData = pd.read_csv(\"HD_Run1(0).csv\")\n",
    "lidarGDF = gpd.GeoDataFrame(data=lidarData, crs=4326, geometry=gpd.points_from_xy(lidarData[\"X\"], lidarData[\"Y\"]))\n"
   ]
  },
  {
   "cell_type": "code",
   "execution_count": 10,
   "metadata": {},
   "outputs": [
    {
     "data": {
      "text/plain": [
       "<AxesSubplot:>"
      ]
     },
     "execution_count": 10,
     "metadata": {},
     "output_type": "execute_result"
    },
    {
     "data": {
      "image/png": "[encoded data removed]",
      "text/plain": [
       "<Figure size 432x288 with 1 Axes>"
      ]
     },
     "metadata": {
      "needs_background": "light"
     },
     "output_type": "display_data"
    }
   ],
   "source": [
    "lidarGDF.plot()"
   ]
  },
  {
   "cell_type": "code",
   "execution_count": 11,
   "metadata": {},
   "outputs": [
    {
     "data": {
      "text/html": [
       "<div>\n",
       "<style scoped>\n",
       "    .dataframe tbody tr th:only-of-type {\n",
       "        vertical-align: middle;\n",
       "    }\n",
       "\n",
       "    .dataframe tbody tr th {\n",
       "        vertical-align: top;\n",
       "    }\n",
       "\n",
       "    .dataframe thead th {\n",
       "        text-align: right;\n",
       "    }\n",
       "</style>\n",
       "<table border=\"1\" class=\"dataframe\">\n",
       "  <thead>\n",
       "    <tr style=\"text-align: right;\">\n",
       "      <th></th>\n",
       "      <th>Id</th>\n",
       "      <th>X</th>\n",
       "      <th>Y</th>\n",
       "      <th>Z</th>\n",
       "      <th>Angle</th>\n",
       "      <th>Distance</th>\n",
       "      <th>Retro</th>\n",
       "      <th>UTC</th>\n",
       "      <th>geometry</th>\n",
       "    </tr>\n",
       "  </thead>\n",
       "  <tbody>\n",
       "    <tr>\n",
       "      <th>0</th>\n",
       "      <td>0</td>\n",
       "      <td>-84.387425</td>\n",
       "      <td>33.775820</td>\n",
       "      <td>270.5789</td>\n",
       "      <td>0.78540</td>\n",
       "      <td>8.39</td>\n",
       "      <td>0.221</td>\n",
       "      <td>55758.31463</td>\n",
       "      <td>POINT (-84.38742 33.77582)</td>\n",
       "    </tr>\n",
       "    <tr>\n",
       "      <th>1</th>\n",
       "      <td>1</td>\n",
       "      <td>-84.387424</td>\n",
       "      <td>33.775821</td>\n",
       "      <td>270.5814</td>\n",
       "      <td>0.77667</td>\n",
       "      <td>8.32</td>\n",
       "      <td>0.221</td>\n",
       "      <td>55758.31471</td>\n",
       "      <td>POINT (-84.38742 33.77582)</td>\n",
       "    </tr>\n",
       "    <tr>\n",
       "      <th>2</th>\n",
       "      <td>2</td>\n",
       "      <td>-84.387424</td>\n",
       "      <td>33.775822</td>\n",
       "      <td>270.5843</td>\n",
       "      <td>0.76794</td>\n",
       "      <td>8.25</td>\n",
       "      <td>0.221</td>\n",
       "      <td>55758.31478</td>\n",
       "      <td>POINT (-84.38742 33.77582)</td>\n",
       "    </tr>\n",
       "    <tr>\n",
       "      <th>3</th>\n",
       "      <td>3</td>\n",
       "      <td>-84.387424</td>\n",
       "      <td>33.775823</td>\n",
       "      <td>270.5786</td>\n",
       "      <td>0.75922</td>\n",
       "      <td>8.21</td>\n",
       "      <td>0.221</td>\n",
       "      <td>55758.31485</td>\n",
       "      <td>POINT (-84.38742 33.77582)</td>\n",
       "    </tr>\n",
       "    <tr>\n",
       "      <th>4</th>\n",
       "      <td>4</td>\n",
       "      <td>-84.387424</td>\n",
       "      <td>33.775824</td>\n",
       "      <td>270.5855</td>\n",
       "      <td>0.75049</td>\n",
       "      <td>8.13</td>\n",
       "      <td>0.221</td>\n",
       "      <td>55758.31493</td>\n",
       "      <td>POINT (-84.38742 33.77582)</td>\n",
       "    </tr>\n",
       "  </tbody>\n",
       "</table>\n",
       "</div>"
      ],
      "text/plain": [
       "   Id          X          Y         Z    Angle  Distance  Retro          UTC  \\\n",
       "0   0 -84.387425  33.775820  270.5789  0.78540      8.39  0.221  55758.31463   \n",
       "1   1 -84.387424  33.775821  270.5814  0.77667      8.32  0.221  55758.31471   \n",
       "2   2 -84.387424  33.775822  270.5843  0.76794      8.25  0.221  55758.31478   \n",
       "3   3 -84.387424  33.775823  270.5786  0.75922      8.21  0.221  55758.31485   \n",
       "4   4 -84.387424  33.775824  270.5855  0.75049      8.13  0.221  55758.31493   \n",
       "\n",
       "                     geometry  \n",
       "0  POINT (-84.38742 33.77582)  \n",
       "1  POINT (-84.38742 33.77582)  \n",
       "2  POINT (-84.38742 33.77582)  \n",
       "3  POINT (-84.38742 33.77582)  \n",
       "4  POINT (-84.38742 33.77582)  "
      ]
     },
     "execution_count": 11,
     "metadata": {},
     "output_type": "execute_result"
    }
   ],
   "source": [
    "lidarGDF.head()"
   ]
  },
  {
   "cell_type": "code",
   "execution_count": null,
   "metadata": {},
   "outputs": [],
   "source": []
  }
 ],
 "metadata": {
  "kernelspec": {
   "display_name": "Python 3.9.4 ('curve_sign_design')",
   "language": "python",
   "name": "python3"
  },
  "language_info": {
   "codemirror_mode": {
    "name": "ipython",
    "version": 3
   },
   "file_extension": ".py",
   "mimetype": "text/x-python",
   "name": "python",
   "nbconvert_exporter": "python",
   "pygments_lexer": "ipython3",
   "version": "3.9.4"
  },
  "orig_nbformat": 4,
  "vscode": {
   "interpreter": {
    "hash": "d75a15af91165eb86bb535d8347e5bc7820873dd1d2ff8c6181b6a963c6b936b"
   }
  }
 },
 "nbformat": 4,
 "nbformat_minor": 2
}
